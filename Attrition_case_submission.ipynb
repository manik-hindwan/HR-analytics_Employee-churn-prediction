{
 "cells": [
  {
   "cell_type": "markdown",
   "metadata": {},
   "source": [
    "Submitted by : manik_hindwan@scmhrd.edu"
   ]
  },
  {
   "cell_type": "markdown",
   "metadata": {},
   "source": [
    "<b><u>Problem Statement</u></b>: The VP has laid out the requirements to you. As a Data Analyst of the Company now it’s your charter to do the required analysis and find out patterns as to why the best employees are leaving so early.\n",
    "Using Python, you derive at a forecast model to predict which employees could be leaving the company, as well as a probability as to why our best and most experienced employees are leaving prematurely. This will help to plan our next steps to avoid the churn out. You decide to create a script that will contain the following:\n",
    "\n",
    "\n",
    "• A visualization and distribution (of all the employee relative fields -    <span style = \"color:darkblue\">STEP 1 - III</span>\n",
    "\n",
    "• Forecast using different Machine Learning models and see the outcome  -    <span style = \"color:darkblue\">STEP 2 & 3</span>\n",
    "\n",
    "• Compare different Machine Learning models and cross validate them  -       <span style = \"color:darkblue\">STEP 4 & 5</span>\n",
    "\n",
    "• Find out why best and most experienced employees are leaving prematurely - <span style = \"color:darkblue\">STEP 1 - IV</span>\n",
    "\n",
    "• Give a Final Prediction Model (the best one) to Forecast  -                <span style = \"color:darkblue\">STEP 6</span>"
   ]
  },
  {
   "cell_type": "markdown",
   "metadata": {},
   "source": [
    "## <span style = \"color:darkblue\"><u>STEP 1</u>: Making sense from data & Visualizations to answer the descriptive questions</span>"
   ]
  },
  {
   "cell_type": "markdown",
   "metadata": {},
   "source": [
    "### <span style = \"color:brown\">I. Exploring the data frame</span>"
   ]
  },
  {
   "cell_type": "code",
   "execution_count": 36,
   "metadata": {},
   "outputs": [],
   "source": [
    "import pandas as pd\n",
    "import numpy as np\n",
    "raw_data = pd.read_csv('./Certification Project data.csv')\n",
    "raw_data.head()\n",
    "\n",
    "from warnings import filterwarnings\n",
    "filterwarnings('ignore')"
   ]
  },
  {
   "cell_type": "code",
   "execution_count": 2,
   "metadata": {},
   "outputs": [
    {
     "name": "stdout",
     "output_type": "stream",
     "text": [
      "<class 'pandas.core.frame.DataFrame'>\n",
      "RangeIndex: 29998 entries, 0 to 29997\n",
      "Data columns (total 10 columns):\n",
      " #   Column                 Non-Null Count  Dtype  \n",
      "---  ------                 --------------  -----  \n",
      " 0   satisfaction_level     29998 non-null  float64\n",
      " 1   last_evaluation        29998 non-null  float64\n",
      " 2   number_project         29998 non-null  int64  \n",
      " 3   average_montly_hours   29998 non-null  int64  \n",
      " 4   time_spend_company     29998 non-null  int64  \n",
      " 5   Work_accident          29998 non-null  int64  \n",
      " 6   left                   29998 non-null  int64  \n",
      " 7   promotion_last_5years  29998 non-null  int64  \n",
      " 8   sales                  29998 non-null  object \n",
      " 9   salary                 29998 non-null  object \n",
      "dtypes: float64(2), int64(6), object(2)\n",
      "memory usage: 2.3+ MB\n"
     ]
    }
   ],
   "source": [
    "raw_data.info()"
   ]
  },
  {
   "cell_type": "code",
   "execution_count": 3,
   "metadata": {},
   "outputs": [
    {
     "data": {
      "text/plain": [
       "0    22856\n",
       "1     7142\n",
       "Name: left, dtype: int64"
      ]
     },
     "execution_count": 3,
     "metadata": {},
     "output_type": "execute_result"
    }
   ],
   "source": [
    "raw_data['left'].value_counts()"
   ]
  },
  {
   "cell_type": "code",
   "execution_count": 4,
   "metadata": {},
   "outputs": [
    {
     "data": {
      "text/plain": [
       "sales          8280\n",
       "technical      5440\n",
       "support        4458\n",
       "IT             2454\n",
       "product_mng    1804\n",
       "marketing      1716\n",
       "RandD          1574\n",
       "accounting     1534\n",
       "hr             1478\n",
       "management     1260\n",
       "Name: sales, dtype: int64"
      ]
     },
     "execution_count": 4,
     "metadata": {},
     "output_type": "execute_result"
    }
   ],
   "source": [
    "raw_data.sales.value_counts()"
   ]
  },
  {
   "cell_type": "code",
   "execution_count": 5,
   "metadata": {},
   "outputs": [
    {
     "data": {
      "text/plain": [
       "low       14632\n",
       "medium    12892\n",
       "high       2474\n",
       "Name: salary, dtype: int64"
      ]
     },
     "execution_count": 5,
     "metadata": {},
     "output_type": "execute_result"
    }
   ],
   "source": [
    "raw_data.salary.value_counts()"
   ]
  },
  {
   "cell_type": "code",
   "execution_count": 6,
   "metadata": {},
   "outputs": [
    {
     "data": {
      "text/html": [
       "<div>\n",
       "<style scoped>\n",
       "    .dataframe tbody tr th:only-of-type {\n",
       "        vertical-align: middle;\n",
       "    }\n",
       "\n",
       "    .dataframe tbody tr th {\n",
       "        vertical-align: top;\n",
       "    }\n",
       "\n",
       "    .dataframe thead th {\n",
       "        text-align: right;\n",
       "    }\n",
       "</style>\n",
       "<table border=\"1\" class=\"dataframe\">\n",
       "  <thead>\n",
       "    <tr style=\"text-align: right;\">\n",
       "      <th></th>\n",
       "      <th>satisfaction_level</th>\n",
       "      <th>last_evaluation</th>\n",
       "      <th>number_project</th>\n",
       "      <th>average_montly_hours</th>\n",
       "      <th>time_spend_company</th>\n",
       "      <th>Work_accident</th>\n",
       "      <th>left</th>\n",
       "      <th>promotion_last_5years</th>\n",
       "    </tr>\n",
       "  </thead>\n",
       "  <tbody>\n",
       "    <tr>\n",
       "      <th>count</th>\n",
       "      <td>29998.000000</td>\n",
       "      <td>29998.000000</td>\n",
       "      <td>29998.000000</td>\n",
       "      <td>29998.000000</td>\n",
       "      <td>29998.000000</td>\n",
       "      <td>29998.000000</td>\n",
       "      <td>29998.000000</td>\n",
       "      <td>29998.000000</td>\n",
       "    </tr>\n",
       "    <tr>\n",
       "      <th>mean</th>\n",
       "      <td>0.612834</td>\n",
       "      <td>0.716102</td>\n",
       "      <td>3.803054</td>\n",
       "      <td>201.050337</td>\n",
       "      <td>3.498233</td>\n",
       "      <td>0.144610</td>\n",
       "      <td>0.238083</td>\n",
       "      <td>0.021268</td>\n",
       "    </tr>\n",
       "    <tr>\n",
       "      <th>std</th>\n",
       "      <td>0.248627</td>\n",
       "      <td>0.171166</td>\n",
       "      <td>1.232572</td>\n",
       "      <td>49.942267</td>\n",
       "      <td>1.460112</td>\n",
       "      <td>0.351713</td>\n",
       "      <td>0.425917</td>\n",
       "      <td>0.144279</td>\n",
       "    </tr>\n",
       "    <tr>\n",
       "      <th>min</th>\n",
       "      <td>0.090000</td>\n",
       "      <td>0.360000</td>\n",
       "      <td>2.000000</td>\n",
       "      <td>96.000000</td>\n",
       "      <td>2.000000</td>\n",
       "      <td>0.000000</td>\n",
       "      <td>0.000000</td>\n",
       "      <td>0.000000</td>\n",
       "    </tr>\n",
       "    <tr>\n",
       "      <th>25%</th>\n",
       "      <td>0.440000</td>\n",
       "      <td>0.560000</td>\n",
       "      <td>3.000000</td>\n",
       "      <td>156.000000</td>\n",
       "      <td>3.000000</td>\n",
       "      <td>0.000000</td>\n",
       "      <td>0.000000</td>\n",
       "      <td>0.000000</td>\n",
       "    </tr>\n",
       "    <tr>\n",
       "      <th>50%</th>\n",
       "      <td>0.640000</td>\n",
       "      <td>0.720000</td>\n",
       "      <td>4.000000</td>\n",
       "      <td>200.000000</td>\n",
       "      <td>3.000000</td>\n",
       "      <td>0.000000</td>\n",
       "      <td>0.000000</td>\n",
       "      <td>0.000000</td>\n",
       "    </tr>\n",
       "    <tr>\n",
       "      <th>75%</th>\n",
       "      <td>0.820000</td>\n",
       "      <td>0.870000</td>\n",
       "      <td>5.000000</td>\n",
       "      <td>245.000000</td>\n",
       "      <td>4.000000</td>\n",
       "      <td>0.000000</td>\n",
       "      <td>0.000000</td>\n",
       "      <td>0.000000</td>\n",
       "    </tr>\n",
       "    <tr>\n",
       "      <th>max</th>\n",
       "      <td>1.000000</td>\n",
       "      <td>1.000000</td>\n",
       "      <td>7.000000</td>\n",
       "      <td>310.000000</td>\n",
       "      <td>10.000000</td>\n",
       "      <td>1.000000</td>\n",
       "      <td>1.000000</td>\n",
       "      <td>1.000000</td>\n",
       "    </tr>\n",
       "  </tbody>\n",
       "</table>\n",
       "</div>"
      ],
      "text/plain": [
       "       satisfaction_level  last_evaluation  number_project  \\\n",
       "count        29998.000000     29998.000000    29998.000000   \n",
       "mean             0.612834         0.716102        3.803054   \n",
       "std              0.248627         0.171166        1.232572   \n",
       "min              0.090000         0.360000        2.000000   \n",
       "25%              0.440000         0.560000        3.000000   \n",
       "50%              0.640000         0.720000        4.000000   \n",
       "75%              0.820000         0.870000        5.000000   \n",
       "max              1.000000         1.000000        7.000000   \n",
       "\n",
       "       average_montly_hours  time_spend_company  Work_accident          left  \\\n",
       "count          29998.000000        29998.000000   29998.000000  29998.000000   \n",
       "mean             201.050337            3.498233       0.144610      0.238083   \n",
       "std               49.942267            1.460112       0.351713      0.425917   \n",
       "min               96.000000            2.000000       0.000000      0.000000   \n",
       "25%              156.000000            3.000000       0.000000      0.000000   \n",
       "50%              200.000000            3.000000       0.000000      0.000000   \n",
       "75%              245.000000            4.000000       0.000000      0.000000   \n",
       "max              310.000000           10.000000       1.000000      1.000000   \n",
       "\n",
       "       promotion_last_5years  \n",
       "count           29998.000000  \n",
       "mean                0.021268  \n",
       "std                 0.144279  \n",
       "min                 0.000000  \n",
       "25%                 0.000000  \n",
       "50%                 0.000000  \n",
       "75%                 0.000000  \n",
       "max                 1.000000  "
      ]
     },
     "execution_count": 6,
     "metadata": {},
     "output_type": "execute_result"
    }
   ],
   "source": [
    "raw_data.describe()"
   ]
  },
  {
   "cell_type": "markdown",
   "metadata": {},
   "source": [
    "No outliers found. Good!"
   ]
  },
  {
   "cell_type": "markdown",
   "metadata": {},
   "source": [
    "### <span style = \"color:brown\">II. Correlation analysis</span>"
   ]
  },
  {
   "cell_type": "code",
   "execution_count": 439,
   "metadata": {},
   "outputs": [
    {
     "data": {
      "text/html": [
       "<div>\n",
       "<style scoped>\n",
       "    .dataframe tbody tr th:only-of-type {\n",
       "        vertical-align: middle;\n",
       "    }\n",
       "\n",
       "    .dataframe tbody tr th {\n",
       "        vertical-align: top;\n",
       "    }\n",
       "\n",
       "    .dataframe thead th {\n",
       "        text-align: right;\n",
       "    }\n",
       "</style>\n",
       "<table border=\"1\" class=\"dataframe\">\n",
       "  <thead>\n",
       "    <tr style=\"text-align: right;\">\n",
       "      <th></th>\n",
       "      <th>satisfaction_level</th>\n",
       "      <th>last_evaluation</th>\n",
       "      <th>number_project</th>\n",
       "      <th>average_montly_hours</th>\n",
       "      <th>time_spend_company</th>\n",
       "      <th>Work_accident</th>\n",
       "      <th>left</th>\n",
       "      <th>promotion_last_5years</th>\n",
       "    </tr>\n",
       "  </thead>\n",
       "  <tbody>\n",
       "    <tr>\n",
       "      <th>satisfaction_level</th>\n",
       "      <td>1.000000</td>\n",
       "      <td>0.105021</td>\n",
       "      <td>-0.142970</td>\n",
       "      <td>-0.020048</td>\n",
       "      <td>-0.100866</td>\n",
       "      <td>0.058697</td>\n",
       "      <td>-0.388375</td>\n",
       "      <td>0.025605</td>\n",
       "    </tr>\n",
       "    <tr>\n",
       "      <th>last_evaluation</th>\n",
       "      <td>0.105021</td>\n",
       "      <td>1.000000</td>\n",
       "      <td>0.349333</td>\n",
       "      <td>0.339742</td>\n",
       "      <td>0.131591</td>\n",
       "      <td>-0.007104</td>\n",
       "      <td>0.006567</td>\n",
       "      <td>-0.008684</td>\n",
       "    </tr>\n",
       "    <tr>\n",
       "      <th>number_project</th>\n",
       "      <td>-0.142970</td>\n",
       "      <td>0.349333</td>\n",
       "      <td>1.000000</td>\n",
       "      <td>0.417211</td>\n",
       "      <td>0.196786</td>\n",
       "      <td>-0.004741</td>\n",
       "      <td>0.023787</td>\n",
       "      <td>-0.006064</td>\n",
       "    </tr>\n",
       "    <tr>\n",
       "      <th>average_montly_hours</th>\n",
       "      <td>-0.020048</td>\n",
       "      <td>0.339742</td>\n",
       "      <td>0.417211</td>\n",
       "      <td>1.000000</td>\n",
       "      <td>0.127755</td>\n",
       "      <td>-0.010143</td>\n",
       "      <td>0.071287</td>\n",
       "      <td>-0.003544</td>\n",
       "    </tr>\n",
       "    <tr>\n",
       "      <th>time_spend_company</th>\n",
       "      <td>-0.100866</td>\n",
       "      <td>0.131591</td>\n",
       "      <td>0.196786</td>\n",
       "      <td>0.127755</td>\n",
       "      <td>1.000000</td>\n",
       "      <td>0.002120</td>\n",
       "      <td>0.144822</td>\n",
       "      <td>0.067433</td>\n",
       "    </tr>\n",
       "    <tr>\n",
       "      <th>Work_accident</th>\n",
       "      <td>0.058697</td>\n",
       "      <td>-0.007104</td>\n",
       "      <td>-0.004741</td>\n",
       "      <td>-0.010143</td>\n",
       "      <td>0.002120</td>\n",
       "      <td>1.000000</td>\n",
       "      <td>-0.154622</td>\n",
       "      <td>0.039245</td>\n",
       "    </tr>\n",
       "    <tr>\n",
       "      <th>left</th>\n",
       "      <td>-0.388375</td>\n",
       "      <td>0.006567</td>\n",
       "      <td>0.023787</td>\n",
       "      <td>0.071287</td>\n",
       "      <td>0.144822</td>\n",
       "      <td>-0.154622</td>\n",
       "      <td>1.000000</td>\n",
       "      <td>-0.061788</td>\n",
       "    </tr>\n",
       "    <tr>\n",
       "      <th>promotion_last_5years</th>\n",
       "      <td>0.025605</td>\n",
       "      <td>-0.008684</td>\n",
       "      <td>-0.006064</td>\n",
       "      <td>-0.003544</td>\n",
       "      <td>0.067433</td>\n",
       "      <td>0.039245</td>\n",
       "      <td>-0.061788</td>\n",
       "      <td>1.000000</td>\n",
       "    </tr>\n",
       "  </tbody>\n",
       "</table>\n",
       "</div>"
      ],
      "text/plain": [
       "                       satisfaction_level  last_evaluation  number_project  \\\n",
       "satisfaction_level               1.000000         0.105021       -0.142970   \n",
       "last_evaluation                  0.105021         1.000000        0.349333   \n",
       "number_project                  -0.142970         0.349333        1.000000   \n",
       "average_montly_hours            -0.020048         0.339742        0.417211   \n",
       "time_spend_company              -0.100866         0.131591        0.196786   \n",
       "Work_accident                    0.058697        -0.007104       -0.004741   \n",
       "left                            -0.388375         0.006567        0.023787   \n",
       "promotion_last_5years            0.025605        -0.008684       -0.006064   \n",
       "\n",
       "                       average_montly_hours  time_spend_company  \\\n",
       "satisfaction_level                -0.020048           -0.100866   \n",
       "last_evaluation                    0.339742            0.131591   \n",
       "number_project                     0.417211            0.196786   \n",
       "average_montly_hours               1.000000            0.127755   \n",
       "time_spend_company                 0.127755            1.000000   \n",
       "Work_accident                     -0.010143            0.002120   \n",
       "left                               0.071287            0.144822   \n",
       "promotion_last_5years             -0.003544            0.067433   \n",
       "\n",
       "                       Work_accident      left  promotion_last_5years  \n",
       "satisfaction_level          0.058697 -0.388375               0.025605  \n",
       "last_evaluation            -0.007104  0.006567              -0.008684  \n",
       "number_project             -0.004741  0.023787              -0.006064  \n",
       "average_montly_hours       -0.010143  0.071287              -0.003544  \n",
       "time_spend_company          0.002120  0.144822               0.067433  \n",
       "Work_accident               1.000000 -0.154622               0.039245  \n",
       "left                       -0.154622  1.000000              -0.061788  \n",
       "promotion_last_5years       0.039245 -0.061788               1.000000  "
      ]
     },
     "execution_count": 439,
     "metadata": {},
     "output_type": "execute_result"
    }
   ],
   "source": [
    "raw_data.corr()"
   ]
  },
  {
   "cell_type": "markdown",
   "metadata": {},
   "source": [
    "<span style = \"color:orange\"> <b>Conclusion:</b></span>\n",
    "The features which have showed significant correlation with the label are 'left', 'satisfaction_level', 'time_spend_company'and 'Work_accident'"
   ]
  },
  {
   "cell_type": "markdown",
   "metadata": {},
   "source": [
    "### <span style = \"color:brown\">III. Exploratory data analysis and visualization</span>"
   ]
  },
  {
   "cell_type": "code",
   "execution_count": 7,
   "metadata": {},
   "outputs": [],
   "source": [
    "import seaborn as sns\n",
    "import matplotlib.pyplot as plt\n",
    "%matplotlib inline"
   ]
  },
  {
   "cell_type": "code",
   "execution_count": 8,
   "metadata": {},
   "outputs": [
    {
     "data": {
      "image/png": "[encoded data removed]",
      "text/plain": [
       "<Figure size 1728x576 with 2 Axes>"
      ]
     },
     "metadata": {},
     "output_type": "display_data"
    }
   ],
   "source": [
    "f = plt.figure(figsize = (24,8))\n",
    "ax0 = f.add_subplot(121)\n",
    "ax1 = f.add_subplot(122)\n",
    "plt.xticks(rotation = 90, fontsize=16)\n",
    "ax0.title.set_text('Attrition for each salary level')\n",
    "ax0.title.set_fontsize(18)\n",
    "ax0.set_ylabel('Active Wee1', fontsize = 15.0)\n",
    "ax0.set_xlabel('Active Wee1', fontsize = 15.0)\n",
    "ax1.set_ylabel('Active Wee1', fontsize = 15.0)\n",
    "ax1.set_xlabel('Active Wee1', fontsize = 15.0)\n",
    "sns.barplot(x = 'salary', y = 'left', data = raw_data, ax= ax0)\n",
    "ax1.title.set_text('Attrition for each department')\n",
    "ax1.title.set_fontsize(18)\n",
    "sns.barplot(x = 'sales', y = 'left', data = raw_data, ax = ax1)\n",
    "plt.show()"
   ]
  },
  {
   "cell_type": "markdown",
   "metadata": {},
   "source": [
    "<span style = \"color:orange\"> <b>Conclusion:</b></span>\n",
    "1. The max attrition has been in the lowest salary bracket followed by medium and high\n",
    "2. The R&D and the Management function has shown the minimum attrition"
   ]
  },
  {
   "cell_type": "code",
   "execution_count": 9,
   "metadata": {},
   "outputs": [
    {
     "data": {
      "image/png": "[encoded data removed]",
      "text/plain": [
       "<Figure size 432x288 with 1 Axes>"
      ]
     },
     "metadata": {},
     "output_type": "display_data"
    }
   ],
   "source": [
    "sns.countplot(y = 'Work_accident', data = raw_data)\n",
    "plt.title(\"Work related accident count\")\n",
    "plt.show()"
   ]
  },
  {
   "cell_type": "markdown",
   "metadata": {},
   "source": [
    "<span style = \"color:orange\"> <b>Conclusion:</b></span>\n",
    "1. Around 5000 workers have met some kind of accident or the other "
   ]
  },
  {
   "cell_type": "code",
   "execution_count": 10,
   "metadata": {},
   "outputs": [
    {
     "data": {
      "image/png": "[encoded data removed]",
      "text/plain": [
       "<Figure size 1440x432 with 2 Axes>"
      ]
     },
     "metadata": {},
     "output_type": "display_data"
    }
   ],
   "source": [
    "# Some wrangling for pie chart representation\n",
    "accident = raw_data[raw_data.Work_accident == 1][['Work_accident','left']].reset_index()\n",
    "wor_acc = accident.groupby('left').sum().drop('index', axis = 1).reset_index().drop('left', axis = 1)\n",
    "wor_acc.rename(index={0:'Did not leave',1:'Left'}, inplace=True)\n",
    "\n",
    "f1 = plt.figure(figsize = (20,6))\n",
    "axs1 = f1.add_subplot(121)\n",
    "axs2 = f1.add_subplot(122)\n",
    "axs2.set_ylabel('Active Wee1', fontsize = 15.0)\n",
    "axs2.set_xlabel('Active Wee1', fontsize = 15.0)\n",
    "axs1.pie(x = 'Work_accident', data = wor_acc, colors = ['yellowgreen', 'cyan'], labels=wor_acc.index, autopct='%1.2f%%')\n",
    "axs1.title.set_text('Work accident vs Attrition status')\n",
    "axs2.title.set_text('Count of work accident vs Attrition status')\n",
    "\n",
    "sns.countplot(y = 'Work_accident', hue = 'left', data = raw_data, palette = 'viridis', ax = axs2)\n",
    "plt.show()\n"
   ]
  },
  {
   "cell_type": "code",
   "execution_count": 11,
   "metadata": {},
   "outputs": [
    {
     "name": "stdout",
     "output_type": "stream",
     "text": [
      "The percentage of workers who met an accident and left out of the total people who met an accident is: 7.79 %\n"
     ]
    }
   ],
   "source": [
    "print(\"The percentage of workers who met an accident and left out of the total people who met an accident is:\",\n",
    "      round(100*(len(accident[accident.left == 1])/len(accident)),2),\"%\")"
   ]
  },
  {
   "cell_type": "code",
   "execution_count": 12,
   "metadata": {},
   "outputs": [
    {
     "name": "stdout",
     "output_type": "stream",
     "text": [
      "The percentage of workers who didn't meet an accident and left out of the total people who left is: 27.83 %\n"
     ]
    }
   ],
   "source": [
    "print(\"The percentage of workers who didn't meet an accident and left out of the total people who left is:\",\n",
    "      round(100*len(raw_data[raw_data.left==1])/len(raw_data[raw_data.Work_accident == 0].left),2),\"%\")"
   ]
  },
  {
   "cell_type": "markdown",
   "metadata": {},
   "source": [
    "<span style = \"color:orange\"> <b>Conclusion:</b></span>\n",
    "1. There seems to be no trend between the number of people who have met an accident and the ones who have left"
   ]
  },
  {
   "cell_type": "markdown",
   "metadata": {},
   "source": [
    "### <span style = \"color:brown\">IV. Checking why the best and the most experienced employees are quitting soon</span>"
   ]
  },
  {
   "cell_type": "code",
   "execution_count": 13,
   "metadata": {},
   "outputs": [
    {
     "name": "stdout",
     "output_type": "stream",
     "text": [
      "The employees who have scored above 80 percentile in evaluation have spent 17.84 hours more than the monthly company average\n"
     ]
    }
   ],
   "source": [
    "# Let us find the top percentile of employees who have scored well in last evaluation\n",
    "\n",
    "top_scorers = raw_data[raw_data.last_evaluation.rank(pct = True)>0.80]\n",
    "print(\"The employees who have scored above 80 percentile in evaluation have spent {} hours more than the monthly company average\".format(round(top_scorers.average_montly_hours.mean()-raw_data.average_montly_hours.mean(),2)))"
   ]
  },
  {
   "cell_type": "code",
   "execution_count": 16,
   "metadata": {},
   "outputs": [
    {
     "name": "stdout",
     "output_type": "stream",
     "text": [
      "The percentage of promotion given to the top scoring employees in the last 5 years is greater than the below 80 percentile scorers -0.24 %\n"
     ]
    }
   ],
   "source": [
    "prom_low_scorers = 100*raw_data.loc[set(raw_data.index) - set(top_scorers.index)].promotion_last_5years.value_counts()[1]/raw_data.loc[set(raw_data.index) - set(top_scorers.index)].promotion_last_5years.value_counts()[0]\n",
    "print(\"The percentage of promotion given to the top scoring employees in the last 5 years is greater than the below 80 percentile scorers\", round(100*top_scorers.promotion_last_5years.value_counts()[1]/top_scorers.promotion_last_5years.value_counts()[0]-prom_low_scorers,2),\"%\")"
   ]
  },
  {
   "cell_type": "code",
   "execution_count": 17,
   "metadata": {},
   "outputs": [
    {
     "data": {
      "image/png": "[encoded data removed]",
      "text/plain": [
       "<Figure size 1296x432 with 2 Axes>"
      ]
     },
     "metadata": {},
     "output_type": "display_data"
    }
   ],
   "source": [
    "# Let us find the employees who have spent >5 years in the organization and understand their reason for quitting\n",
    "\n",
    "left_promotion_data = raw_data[raw_data.time_spend_company>5][['left','promotion_last_5years','salary']]\n",
    "fi = plt.figure(figsize=(18,6))\n",
    "az1 = fi.add_subplot(121)\n",
    "az2 = fi.add_subplot(122)\n",
    "sns.lineplot(x ='left', y = 'promotion_last_5years', data = left_promotion_data , ax = az1)\n",
    "az1.title.set_text('Trend b/w promotion & attrition for most experienced employees')\n",
    "az2.title.set_text('Trend b/w salary level & attrition for most experienced employees')\n",
    "sns.barplot(x = 'left', y = 'salary', data = left_promotion_data, ax = az2)\n",
    "plt.show()"
   ]
  },
  {
   "cell_type": "markdown",
   "metadata": {},
   "source": [
    "<span style = \"color:orange\"> <b>Conclusion:</b></span>\n",
    "1. The people who have scored above 80 percentile in the evaluation have worked on an average <b>17.84 hours</b> more per month as compared to the organization. However, the promotion of such employees has been <b>0.24% lesser</b> than the low scorers\n",
    "\n",
    "\n",
    "2. Among the experienced employees, the declining trend of promotion with increasing attrition shows that the employees with >5 years of time in the company who have <b>not been promoted</b> have decided to part with the organization\n",
    "\n",
    "\n",
    "3. The experienced employees who are <b>paid low salaries</b> have left the most followed by medium salaries. Experienced employees with high salaries have not left at all"
   ]
  },
  {
   "cell_type": "markdown",
   "metadata": {},
   "source": [
    "## <span style = \"color:darkblue\"><u>STEP 2</u>: Data preprocessing: wrangling, feature scaling, engineering</span>\n"
   ]
  },
  {
   "cell_type": "markdown",
   "metadata": {},
   "source": [
    "### <span style = \"color:brown\">I. Train test split and feature separation</span>"
   ]
  },
  {
   "cell_type": "markdown",
   "metadata": {},
   "source": [
    "In order to remove the income bias from coming into our model, we will use a stratified train test split instead of a regular train-test split"
   ]
  },
  {
   "cell_type": "code",
   "execution_count": 21,
   "metadata": {},
   "outputs": [],
   "source": [
    "def feature_engineering(data, feature_eng = False):\n",
    "    if feature_eng == True:\n",
    "        data['5_workex_and_promotion'] = data[data.time_spend_company>=5].promotion_last_5years > 0\n",
    "        data.replace(np.nan, 'False', inplace=True)\n",
    "    else:\n",
    "        pass\n",
    "    return data\n",
    "\n",
    "raw_data = feature_engineering(raw_data)"
   ]
  },
  {
   "cell_type": "code",
   "execution_count": 22,
   "metadata": {},
   "outputs": [],
   "source": [
    "from sklearn.model_selection import train_test_split, StratifiedShuffleSplit\n",
    "split = StratifiedShuffleSplit(n_splits = 1,test_size=0.2, random_state=42 )\n",
    "for train_index, test_index in split.split(raw_data, raw_data['salary']):\n",
    "    strat_train = raw_data.loc[train_index]\n",
    "    strat_test = raw_data.loc[test_index]"
   ]
  },
  {
   "cell_type": "code",
   "execution_count": 23,
   "metadata": {},
   "outputs": [],
   "source": [
    "def feature_seperator(datum):\n",
    "    feat =  datum.drop(['left'], axis = 1)\n",
    "    lab = datum['left']\n",
    "    return feat, lab\n",
    "\n",
    "X_train, y_train = feature_seperator(strat_train)\n",
    "X_test, y_test = feature_seperator(strat_test)"
   ]
  },
  {
   "cell_type": "code",
   "execution_count": 24,
   "metadata": {},
   "outputs": [],
   "source": [
    "#X_train, X_test, y_train, y_test = train_test_split(X,y, test_size = 0.2, random_state =42)"
   ]
  },
  {
   "cell_type": "code",
   "execution_count": 25,
   "metadata": {},
   "outputs": [],
   "source": [
    "def numcat_seperator(feat, feature_eng = False):\n",
    "    if feature_eng==True:\n",
    "        feat_num = feat.drop(['sales', 'salary', 'number_project', 'Work_accident', 'promotion_last_5years','time_spend_company','5_workex_and_promotion'], axis = 1)\n",
    "        feat_cat = feat[['sales', 'salary','number_project', 'Work_accident', 'promotion_last_5years','time_spend_company','5_workex_and_promotion']]\n",
    "    else:\n",
    "        feat_num = feat.drop(['sales', 'salary', 'number_project', 'Work_accident', 'promotion_last_5years','time_spend_company'], axis = 1)\n",
    "        feat_cat = feat[['sales', 'salary','number_project', 'Work_accident', 'promotion_last_5years','time_spend_company']]\n",
    "    feat_num.astype('float64')\n",
    "    feat_cat.astype('str')\n",
    "    return feat_num, feat_cat\n",
    "\n",
    "X_train_num, X_train_cat = numcat_seperator(X_train)"
   ]
  },
  {
   "cell_type": "markdown",
   "metadata": {},
   "source": [
    "### <span style = \"color:brown\">II. Creating Preprocessing Pipeline for column transformations</span>"
   ]
  },
  {
   "cell_type": "code",
   "execution_count": 26,
   "metadata": {},
   "outputs": [],
   "source": [
    "from sklearn.preprocessing import Normalizer, OneHotEncoder, FunctionTransformer, MinMaxScaler\n",
    "from sklearn.pipeline import Pipeline\n",
    "from sklearn.compose import ColumnTransformer\n",
    "from sklearn.impute import SimpleImputer"
   ]
  },
  {
   "cell_type": "markdown",
   "metadata": {},
   "source": [
    "We shall create three pipelines, one for normalizer of average_montly_hours, one for the other two numerical values and one for onehotencoding of categorical values"
   ]
  },
  {
   "cell_type": "code",
   "execution_count": 27,
   "metadata": {},
   "outputs": [],
   "source": [
    "adder = FunctionTransformer(feature_engineering, validate = False,\n",
    "                           kw_args = {\"feature_eng\":False})"
   ]
  },
  {
   "cell_type": "code",
   "execution_count": 28,
   "metadata": {},
   "outputs": [],
   "source": [
    "X_train_num1 = X_train_num[['average_montly_hours']]\n",
    "num1_attr = list(X_train_num1)\n",
    "X_train_num2 = X_train_num.drop('average_montly_hours', axis = 1)\n",
    "num2_attr = list(X_train_num2)\n",
    "cat_attr = list(X_train_cat)\n",
    "\n",
    "num_pipe1 = Pipeline([\n",
    "    ('normalizer', MinMaxScaler())\n",
    "])\n",
    "\n",
    "num_pipe2 = Pipeline([\n",
    "    ('impute', SimpleImputer(strategy = \"median\"))\n",
    "])\n",
    "\n",
    "cat_pipe = Pipeline([\n",
    "    ('adder', FunctionTransformer(feature_engineering, validate=False)),\n",
    "    ('onehotencoder', OneHotEncoder())\n",
    "])"
   ]
  },
  {
   "cell_type": "code",
   "execution_count": 29,
   "metadata": {},
   "outputs": [],
   "source": [
    "full_pipeline = ColumnTransformer([\n",
    "    ('num1', num_pipe1, num1_attr),\n",
    "    ('num2', num_pipe2, num2_attr),\n",
    "    ('cat', cat_pipe, cat_attr)\n",
    "])"
   ]
  },
  {
   "cell_type": "code",
   "execution_count": 30,
   "metadata": {},
   "outputs": [],
   "source": [
    "X_train_prep = full_pipeline.fit_transform(X_train)"
   ]
  },
  {
   "cell_type": "code",
   "execution_count": 31,
   "metadata": {},
   "outputs": [
    {
     "data": {
      "text/plain": [
       "array([0.85514019, 0.09      , 0.8       , 0.        , 0.        ,\n",
       "       0.        , 0.        , 0.        , 0.        , 0.        ,\n",
       "       0.        , 0.        , 1.        , 0.        , 1.        ,\n",
       "       0.        , 0.        , 0.        , 0.        , 1.        ,\n",
       "       0.        , 0.        , 1.        , 0.        , 1.        ,\n",
       "       0.        , 0.        , 0.        , 1.        , 0.        ,\n",
       "       0.        , 0.        , 0.        , 0.        ])"
      ]
     },
     "execution_count": 31,
     "metadata": {},
     "output_type": "execute_result"
    }
   ],
   "source": [
    "X_train_prep.toarray()[0]"
   ]
  },
  {
   "cell_type": "markdown",
   "metadata": {},
   "source": [
    "## <span style = \"color:darkblue\"><u>STEP 3</u>: Model building and Cross-Validation</span>\n"
   ]
  },
  {
   "cell_type": "markdown",
   "metadata": {},
   "source": [
    "We will be doing the following in this section:\n",
    "1. Create models using a few popular classification algorithms\n",
    "2. Use cross validation scores on the training set in order to compare the important metrics"
   ]
  },
  {
   "cell_type": "code",
   "execution_count": 32,
   "metadata": {},
   "outputs": [],
   "source": [
    "from sklearn.linear_model import LogisticRegressionCV, SGDClassifier\n",
    "from sklearn.neighbors import KNeighborsClassifier\n",
    "from sklearn.tree import DecisionTreeClassifier, ExtraTreeClassifier\n",
    "from sklearn.ensemble import AdaBoostClassifier,GradientBoostingClassifier,RandomForestClassifier,StackingClassifier\n",
    "from sklearn.svm import SVC\n",
    "from sklearn.neural_network import MLPClassifier\n",
    "from sklearn.preprocessing import PolynomialFeatures"
   ]
  },
  {
   "cell_type": "code",
   "execution_count": 33,
   "metadata": {},
   "outputs": [],
   "source": [
    "# Creating a class to fit all the models we need\n",
    "from sklearn.metrics import jaccard_score\n",
    "from sklearn.metrics import f1_score\n",
    "from sklearn.metrics import roc_auc_score\n",
    "from sklearn.model_selection import cross_val_predict\n",
    "\n",
    "class Model_building():\n",
    "    def __init__(self, model_name = 'lgr'):\n",
    "        self.model_name = model_name\n",
    "    def modelling(self, data, label, cv):\n",
    "        if self.model_name == 'lgr':\n",
    "            log = LogisticRegressionCV(cv = cv, random_state=42)\n",
    "            log.fit(data,label)\n",
    "            pred = cross_val_predict(log, data, label, cv = cv)\n",
    "            print(\"Jaccard score:\",jaccard_score(label, pred),\" F1 score:\", f1_score(label, pred), \"AUC:\", roc_auc_score(label,pred))\n",
    "            pass\n",
    "        elif self.model_name == 'knn':\n",
    "            knn = KNeighborsClassifier(n_neighbors=3)\n",
    "            knn.fit(data, label)\n",
    "            pred = cross_val_predict(knn, data, label, cv = cv)\n",
    "            print(\"Jaccard score:\",jaccard_score(label, pred),\" F1 score:\", f1_score(label, pred), \"AUC:\", roc_auc_score(label,pred))\n",
    "            return knn\n",
    "        elif self.model_name == 'decision':\n",
    "            tree = DecisionTreeClassifier(random_state=42)\n",
    "            tree.fit(data,label)\n",
    "            pred = cross_val_predict(tree, data, label, cv = cv)\n",
    "            print(\"Jaccard score:\",jaccard_score(label, pred),\" F1 score:\", f1_score(label, pred), \"AUC:\", roc_auc_score(label,pred))\n",
    "            return tree\n",
    "        elif self.model_name == 'rf':\n",
    "            rf = RandomForestClassifier(random_state=42)\n",
    "            rf.fit(data,label)\n",
    "            pred = cross_val_predict(rf, data, label, cv = cv)\n",
    "            print(\"Jaccard score:\",jaccard_score(label, pred),\" F1 score:\", f1_score(label, pred), \"AUC:\", roc_auc_score(label,pred))\n",
    "            return rf\n",
    "        elif self.model_name == 'svm':\n",
    "            svc = SVC(random_state=42)\n",
    "            svc.fit(data,label)\n",
    "            pred = cross_val_predict(svc, data, label, cv = cv)\n",
    "            print(\"Jaccard score:\",jaccard_score(label, pred),\" F1 score:\", f1_score(label, pred), \"AUC:\", roc_auc_score(label,pred))\n",
    "            return svc\n",
    "        elif self.model_name == 'extra':\n",
    "            extra = ExtraTreeClassifier()\n",
    "            extra.fit(data,label)\n",
    "            pred = cross_val_predict(extra, data, label, cv = cv)\n",
    "            print(\"Jaccard score:\",jaccard_score(label, pred),\" F1 score:\", f1_score(label, pred), \"AUC:\", roc_auc_score(label,pred))\n",
    "            return extra\n",
    "        elif self.model_name == 'sgd':\n",
    "            sgd = SGDClassifier(tol = 0.0001, early_stopping=True, random_state=42 )\n",
    "            sgd.fit(data,label)\n",
    "            pred = cross_val_predict(sgd, data, label, cv = cv)\n",
    "            print(\"Jaccard score:\",jaccard_score(label, pred),\" F1 score:\", f1_score(label, pred), \"AUC:\", roc_auc_score(label,pred))\n",
    "            pass\n",
    "        elif self.model_name == 'ada':\n",
    "            ada = AdaBoostClassifier(random_state=42)\n",
    "            ada.fit(data,label)\n",
    "            pred = cross_val_predict(ada, data, label, cv = cv)\n",
    "            print(\"Jaccard score:\",jaccard_score(label, pred),\" F1 score:\", f1_score(label, pred), \"AUC:\", roc_auc_score(label,pred))\n",
    "            return ada\n",
    "        elif self.model_name == 'mlp':\n",
    "            mlp = MLPClassifier(random_state=42,early_stopping=True)\n",
    "            mlp.fit(data,label)\n",
    "            pred = cross_val_predict(mlp, data, label, cv = cv)\n",
    "            print(\"Jaccard score:\",jaccard_score(label, pred),\" F1 score:\", f1_score(label, pred), \"AUC:\", roc_auc_score(label,pred))\n",
    "            return mlp\n",
    "        pass\n",
    "    pass\n"
   ]
  },
  {
   "cell_type": "markdown",
   "metadata": {},
   "source": [
    "#### <span style = \"color:green\">We will create an object and call the function to check the metrics with cross validated predictions using the below models"
   ]
  },
  {
   "cell_type": "code",
   "execution_count": 37,
   "metadata": {},
   "outputs": [
    {
     "name": "stdout",
     "output_type": "stream",
     "text": [
      "Jaccard score: 0.6463846044997877  F1 score: 0.7852170176192521 AUC: 0.861218615647134\n"
     ]
    }
   ],
   "source": [
    "# Logistic regression\n",
    "from warnings import filterwarnings\n",
    "filterwarnings('ignore')\n",
    "\n",
    "model = Model_building(model_name='lgr')\n",
    "model.modelling(data = X_train_prep, label = y_train, cv = 5)"
   ]
  },
  {
   "cell_type": "code",
   "execution_count": 38,
   "metadata": {},
   "outputs": [
    {
     "name": "stdout",
     "output_type": "stream",
     "text": [
      "Jaccard score: 0.8661193558572782  F1 score: 0.9282571912013536 AUC: 0.9611546696408997\n"
     ]
    }
   ],
   "source": [
    "# K Nearest neighbours\n",
    "model = Model_building(model_name='knn')\n",
    "knn = model.modelling(data = X_train_prep, label = y_train, cv = 5)"
   ]
  },
  {
   "cell_type": "code",
   "execution_count": 39,
   "metadata": {},
   "outputs": [
    {
     "name": "stdout",
     "output_type": "stream",
     "text": [
      "Jaccard score: 0.9726542471372415  F1 score: 0.9861375844740947 AUC: 0.9922198358452254\n"
     ]
    }
   ],
   "source": [
    "# Decision tree classifier\n",
    "model = Model_building(model_name='decision')\n",
    "tree = model.modelling(data = X_train_prep, label = y_train, cv = 5)"
   ]
  },
  {
   "cell_type": "code",
   "execution_count": 40,
   "metadata": {},
   "outputs": [
    {
     "name": "stdout",
     "output_type": "stream",
     "text": [
      "Jaccard score: 0.8399547803617571  F1 score: 0.9130167646800668 AUC: 0.940253848867027\n"
     ]
    }
   ],
   "source": [
    "# Support vector classifier\n",
    "model = Model_building(model_name='svm')\n",
    "svc = model.modelling(data = X_train_prep, label = y_train, cv = 5)"
   ]
  },
  {
   "cell_type": "code",
   "execution_count": 51,
   "metadata": {},
   "outputs": [
    {
     "name": "stdout",
     "output_type": "stream",
     "text": [
      "Jaccard score: 0.9842150910667823  F1 score: 0.992044759157269 AUC: 0.9930972250026215\n"
     ]
    }
   ],
   "source": [
    "# Random forest classifier\n",
    "model = Model_building(model_name='rf')\n",
    "rf = model.modelling(data = X_train_prep, label = y_train, cv = 5)"
   ]
  },
  {
   "cell_type": "code",
   "execution_count": 43,
   "metadata": {},
   "outputs": [
    {
     "name": "stdout",
     "output_type": "stream",
     "text": [
      "Jaccard score: 0.9523487664751605  F1 score: 0.9755928682707288 AUC: 0.9855999466163334\n"
     ]
    }
   ],
   "source": [
    "# Extra trees classifier\n",
    "model = Model_building(model_name='extra')\n",
    "extra = model.modelling(data = X_train_prep, label = y_train, cv = 5)"
   ]
  },
  {
   "cell_type": "code",
   "execution_count": 44,
   "metadata": {},
   "outputs": [
    {
     "name": "stdout",
     "output_type": "stream",
     "text": [
      "Jaccard score: 0.6626811084540724  F1 score: 0.7971235194585449 AUC: 0.8725070399710204\n"
     ]
    }
   ],
   "source": [
    "# Stochastic gradient descent classifier\n",
    "model = Model_building(model_name='sgd')\n",
    "model.modelling(data = X_train_prep, label = y_train, cv = 5)"
   ]
  },
  {
   "cell_type": "code",
   "execution_count": 46,
   "metadata": {},
   "outputs": [
    {
     "name": "stdout",
     "output_type": "stream",
     "text": [
      "Jaccard score: 0.8370813784177318  F1 score: 0.9113166006164685 AUC: 0.9382065757237776\n"
     ]
    }
   ],
   "source": [
    "# Adaptive bootstrapping classifier\n",
    "model = Model_building(model_name='ada')\n",
    "ada = model.modelling(data = X_train_prep, label = y_train, cv = 5)"
   ]
  },
  {
   "cell_type": "code",
   "execution_count": 48,
   "metadata": {},
   "outputs": [
    {
     "name": "stdout",
     "output_type": "stream",
     "text": [
      "Jaccard score: 0.8499101747509391  F1 score: 0.9188664253553457 AUC: 0.9424052201599604\n"
     ]
    }
   ],
   "source": [
    "# Multi-layered perceptron\n",
    "model = Model_building(model_name='mlp')\n",
    "mlp = model.modelling(data = X_train_prep, label = y_train, cv = 5)"
   ]
  },
  {
   "cell_type": "markdown",
   "metadata": {},
   "source": [
    "## <span style = \"color:darkblue\"><u>STEP 4</u>: Model selection using Grid Search with cross validation</span>\n"
   ]
  },
  {
   "cell_type": "markdown",
   "metadata": {},
   "source": [
    "<span style = \"color:orange\"><b>Based on the previous step's results and the order of metrics, let us run the grid search for the following models:</b></span>\n",
    "1. KNN\n",
    "2. Tree based models\n",
    "3. Ensemble models\n",
    "4. SVC\n",
    "\n",
    "<u>NOTE</u>: I could not use grid search on all the models because of limited computational power, hence I have chosen the best 4 models basis the cross-validation results"
   ]
  },
  {
   "cell_type": "code",
   "execution_count": 49,
   "metadata": {},
   "outputs": [],
   "source": [
    "from sklearn.model_selection import GridSearchCV"
   ]
  },
  {
   "cell_type": "markdown",
   "metadata": {},
   "source": [
    "### <span style = \"color:brown\">I. Grid search for Random Forest</span>"
   ]
  },
  {
   "cell_type": "code",
   "execution_count": 52,
   "metadata": {},
   "outputs": [
    {
     "data": {
      "text/plain": [
       "GridSearchCV(cv=5, estimator=RandomForestClassifier(random_state=42),\n",
       "             param_grid=[{'max_features': [2, 4, 6, 8, 10],\n",
       "                          'n_estimators': [3, 10, 30, 80]},\n",
       "                         {'bootstrap': [False], 'max_features': [2, 3, 4],\n",
       "                          'n_estimators': [3, 10]}],\n",
       "             return_train_score=True, scoring='neg_mean_squared_error')"
      ]
     },
     "execution_count": 52,
     "metadata": {},
     "output_type": "execute_result"
    }
   ],
   "source": [
    "param_grid = [\n",
    "    {'n_estimators':[3,10,30,80], 'max_features':[2,4,6,8,10]},\n",
    "    {'bootstrap':[False], 'n_estimators':[3,10], 'max_features':[2,3,4]}\n",
    "]\n",
    "\n",
    "grid_search = GridSearchCV(rf, param_grid, cv=5,\n",
    "                           scoring = \"neg_mean_squared_error\", return_train_score=True )\n",
    "grid_search.fit(X_train_prep,y_train)"
   ]
  },
  {
   "cell_type": "code",
   "execution_count": 53,
   "metadata": {},
   "outputs": [
    {
     "data": {
      "text/plain": [
       "{'max_features': 10, 'n_estimators': 80}"
      ]
     },
     "execution_count": 53,
     "metadata": {},
     "output_type": "execute_result"
    }
   ],
   "source": [
    "grid_search.best_params_"
   ]
  },
  {
   "cell_type": "code",
   "execution_count": 54,
   "metadata": {},
   "outputs": [
    {
     "name": "stdout",
     "output_type": "stream",
     "text": [
      "Jaccard score: 0.999652113411028  F1 score: 0.9998260264439806 AUC: 0.9998856159617163\n"
     ]
    }
   ],
   "source": [
    "rf_best = grid_search.best_estimator_\n",
    "rf_best.fit(X_train_prep, y_train)\n",
    "pred_train = rf_best.predict(X_train_prep)\n",
    "print(\"Jaccard score:\",jaccard_score(y_train, pred_train),\" F1 score:\", f1_score(y_train, pred_train), \"AUC:\", \n",
    "      roc_auc_score(y_train,pred_train))"
   ]
  },
  {
   "cell_type": "markdown",
   "metadata": {},
   "source": [
    "### <span style = \"color:brown\">II. Grid search for KNN</span>"
   ]
  },
  {
   "cell_type": "code",
   "execution_count": 55,
   "metadata": {},
   "outputs": [
    {
     "data": {
      "text/plain": [
       "{'n_neighbors': 2}"
      ]
     },
     "execution_count": 55,
     "metadata": {},
     "output_type": "execute_result"
    }
   ],
   "source": [
    "params = {'n_neighbors' : [2, 3, 4 ,6, 7]}\n",
    "grid_knn = GridSearchCV(knn, params, cv = 10)\n",
    "grid_knn.fit(X_train_prep, y_train)\n",
    "grid_knn.best_params_"
   ]
  },
  {
   "cell_type": "code",
   "execution_count": 56,
   "metadata": {},
   "outputs": [
    {
     "name": "stdout",
     "output_type": "stream",
     "text": [
      "Jaccard score: 0.9930410577592206  F1 score: 0.9965083798882681 AUC: 0.9965205288796103\n"
     ]
    }
   ],
   "source": [
    "knn_best = grid_knn.best_estimator_\n",
    "knn_best.fit(X_train_prep, y_train)\n",
    "pred_train = knn_best.predict(X_train_prep)\n",
    "print(\"Jaccard score:\",jaccard_score(y_train, pred_train),\" F1 score:\", f1_score(y_train, pred_train), \"AUC:\", \n",
    "      roc_auc_score(y_train,pred_train))"
   ]
  },
  {
   "cell_type": "markdown",
   "metadata": {},
   "source": [
    "### <span style = \"color:brown\">III. Grid search for SVC</span>   - Warning - Takes >1 hour"
   ]
  },
  {
   "cell_type": "code",
   "execution_count": 57,
   "metadata": {},
   "outputs": [
    {
     "data": {
      "text/plain": [
       "SVC(C=10, degree=5, kernel='poly', random_state=42)"
      ]
     },
     "execution_count": 57,
     "metadata": {},
     "output_type": "execute_result"
    }
   ],
   "source": [
    "params = {'C' : [1,10], 'kernel':('linear', 'poly', 'rbf'), 'degree': [1,3,5]}\n",
    "grid_svm = GridSearchCV(svc, params, cv = 10)\n",
    "grid_svm.fit(X_train_prep, y_train)\n",
    "grid_svm.best_estimator_"
   ]
  },
  {
   "cell_type": "code",
   "execution_count": 58,
   "metadata": {},
   "outputs": [
    {
     "name": "stdout",
     "output_type": "stream",
     "text": [
      "Jaccard score: 0.9253530598520511  F1 score: 0.961229479566888 AUC: 0.9732957741108283\n"
     ]
    }
   ],
   "source": [
    "svc_best = grid_svm.best_estimator_\n",
    "svc_best.fit(X_train_prep, y_train)\n",
    "pred_train = svc_best.predict(X_train_prep)\n",
    "print(\"Jaccard score:\",jaccard_score(y_train, pred_train),\" F1 score:\", f1_score(y_train, pred_train), \"AUC:\", \n",
    "      roc_auc_score(y_train,pred_train))"
   ]
  },
  {
   "cell_type": "markdown",
   "metadata": {},
   "source": [
    "### <span style = \"color:brown\">IV. Grid search for Decision tree</span>"
   ]
  },
  {
   "cell_type": "code",
   "execution_count": 59,
   "metadata": {},
   "outputs": [
    {
     "data": {
      "text/plain": [
       "GridSearchCV(cv=10, estimator=DecisionTreeClassifier(random_state=42),\n",
       "             param_grid={'max_depth': [2, 4, 6, 10, 20, 30],\n",
       "                         'max_features': [2, 4, 6, 8],\n",
       "                         'min_samples_split': [2, 4, 6, 8]})"
      ]
     },
     "execution_count": 59,
     "metadata": {},
     "output_type": "execute_result"
    }
   ],
   "source": [
    "params = {'max_depth' : [2, 4, 6, 10, 20, 30], 'max_features':[2,4,6,8], 'min_samples_split': [2,4,6,8]}\n",
    "grid_tree = GridSearchCV(tree, params, cv = 10)\n",
    "grid_tree.fit(X_train_prep, y_train)"
   ]
  },
  {
   "cell_type": "code",
   "execution_count": 60,
   "metadata": {},
   "outputs": [
    {
     "name": "stdout",
     "output_type": "stream",
     "text": [
      "Jaccard score: 1.0  F1 score: 1.0 AUC: 1.0\n"
     ]
    }
   ],
   "source": [
    "best_tree = grid_tree.best_estimator_\n",
    "best_tree.fit(X_train_prep, y_train)\n",
    "pred_train = best_tree.predict(X_train_prep)\n",
    "print(\"Jaccard score:\",jaccard_score(y_train, pred_train),\" F1 score:\", f1_score(y_train, pred_train), \"AUC:\", \n",
    "      roc_auc_score(y_train,pred_train))"
   ]
  },
  {
   "cell_type": "markdown",
   "metadata": {},
   "source": [
    "## <span style = \"color:darkblue\"><u>STEP 5</u>: Model evaluation</span>"
   ]
  },
  {
   "cell_type": "code",
   "execution_count": 61,
   "metadata": {},
   "outputs": [],
   "source": [
    "# Pre=processing on the holdout dataset\n",
    "X_test_prep = full_pipeline.fit_transform(X_test)"
   ]
  },
  {
   "cell_type": "markdown",
   "metadata": {},
   "source": [
    "### <span style = \"color:brown\">I. Model evaluation on KNN</span>  "
   ]
  },
  {
   "cell_type": "code",
   "execution_count": 62,
   "metadata": {},
   "outputs": [
    {
     "name": "stdout",
     "output_type": "stream",
     "text": [
      "Jaccard score: 0.9505649717514124  F1 score: 0.9746560463432296 AUC: 0.9803951679270566\n"
     ]
    }
   ],
   "source": [
    "knn_pred = knn_best.predict(X_test_prep)\n",
    "print(\"Jaccard score:\",jaccard_score(y_test, knn_pred),\" F1 score:\", f1_score(y_test, knn_pred), \"AUC:\", \n",
    "      roc_auc_score(y_test, knn_pred))"
   ]
  },
  {
   "cell_type": "markdown",
   "metadata": {},
   "source": [
    "### <span style = \"color:brown\">II. Model evaluation on SVC</span>  "
   ]
  },
  {
   "cell_type": "code",
   "execution_count": 63,
   "metadata": {},
   "outputs": [
    {
     "name": "stdout",
     "output_type": "stream",
     "text": [
      "Jaccard score: 0.9110807113543091  F1 score: 0.9534717251252685 AUC: 0.9703801603672086\n"
     ]
    }
   ],
   "source": [
    "svc_pred = svc_best.predict(X_test_prep)\n",
    "print(\"Jaccard score:\",jaccard_score(y_test, svc_pred),\" F1 score:\", f1_score(y_test, svc_pred), \"AUC:\", \n",
    "      roc_auc_score(y_test, svc_pred))"
   ]
  },
  {
   "cell_type": "markdown",
   "metadata": {},
   "source": [
    "### <span style = \"color:brown\">III. Model evaluation on Decision tree</span>  "
   ]
  },
  {
   "cell_type": "code",
   "execution_count": 64,
   "metadata": {},
   "outputs": [
    {
     "name": "stdout",
     "output_type": "stream",
     "text": [
      "Jaccard score: 0.9871794871794872  F1 score: 0.9935483870967743 AUC: 0.9960450189416711\n"
     ]
    }
   ],
   "source": [
    "tree_pred = best_tree.predict(X_test_prep)\n",
    "print(\"Jaccard score:\",jaccard_score(y_test, tree_pred),\" F1 score:\", f1_score(y_test, tree_pred), \"AUC:\", \n",
    "      roc_auc_score(y_test, tree_pred))"
   ]
  },
  {
   "cell_type": "markdown",
   "metadata": {},
   "source": [
    "### <span style = \"color:brown\">IV. Model evaluation on Random Forest</span>  "
   ]
  },
  {
   "cell_type": "code",
   "execution_count": 65,
   "metadata": {},
   "outputs": [
    {
     "name": "stdout",
     "output_type": "stream",
     "text": [
      "Jaccard score: 0.992831541218638  F1 score: 0.9964028776978416 AUC: 0.9966633254235789\n"
     ]
    }
   ],
   "source": [
    "rf_pred = rf_best.predict(X_test_prep)\n",
    "print(\"Jaccard score:\",jaccard_score(y_test, rf_pred),\" F1 score:\", f1_score(y_test, rf_pred), \"AUC:\", \n",
    "      roc_auc_score(y_test, rf_pred))"
   ]
  },
  {
   "cell_type": "markdown",
   "metadata": {},
   "source": [
    "### <span style = \"color:brown\">V. Comparison of various Evaluation metrics for the models</span> "
   ]
  },
  {
   "cell_type": "code",
   "execution_count": 66,
   "metadata": {},
   "outputs": [],
   "source": [
    "from sklearn.metrics import precision_score, recall_score"
   ]
  },
  {
   "cell_type": "code",
   "execution_count": 67,
   "metadata": {},
   "outputs": [
    {
     "name": "stdout",
     "output_type": "stream",
     "text": [
      "Random forest Precision: 0.9992784992784993 Random forest Recall: 0.9935437589670014\n"
     ]
    }
   ],
   "source": [
    "print(\"Random forest Precision:\",precision_score(y_test, rf_pred), \"Random forest Recall:\", recall_score(y_test, rf_pred))"
   ]
  },
  {
   "cell_type": "code",
   "execution_count": 68,
   "metadata": {},
   "outputs": [
    {
     "name": "stdout",
     "output_type": "stream",
     "text": [
      "SVM Precision: 0.9514285714285714 SVM Recall: 0.9555236728837877\n"
     ]
    }
   ],
   "source": [
    "print(\"SVM Precision:\",precision_score(y_test, svc_pred), \"SVM Recall:\", recall_score(y_test, svc_pred))"
   ]
  },
  {
   "cell_type": "code",
   "execution_count": 69,
   "metadata": {},
   "outputs": [
    {
     "name": "stdout",
     "output_type": "stream",
     "text": [
      "Decision tree Precision: 0.9928366762177651 Decision tree Recall: 0.994261119081779\n"
     ]
    }
   ],
   "source": [
    "print(\"Decision tree Precision:\",precision_score(y_test, tree_pred), \"Decision tree Recall:\", recall_score(y_test, tree_pred))"
   ]
  },
  {
   "cell_type": "code",
   "execution_count": 70,
   "metadata": {},
   "outputs": [
    {
     "name": "stdout",
     "output_type": "stream",
     "text": [
      "Decision tree Precision: 0.9839181286549707 Decision tree Recall: 0.9655667144906743\n"
     ]
    }
   ],
   "source": [
    "print(\"Decision tree Precision:\",precision_score(y_test, knn_pred), \"Decision tree Recall:\", recall_score(y_test, knn_pred))"
   ]
  },
  {
   "cell_type": "code",
   "execution_count": 71,
   "metadata": {},
   "outputs": [],
   "source": [
    "data = {'Algorithm':[],'Jaccard':[], 'Precision':[], 'Recall':[], 'AUC':[]}\n",
    "rep = pd.DataFrame(data, columns = list(data.keys()))\n",
    "rep['Algorithm'] = ['KNN','Decision Tree', 'SVM', 'RandomForest']"
   ]
  },
  {
   "cell_type": "markdown",
   "metadata": {},
   "source": [
    "Creating a data-frame containing the various metrics"
   ]
  },
  {
   "cell_type": "code",
   "execution_count": 80,
   "metadata": {},
   "outputs": [
    {
     "name": "stdout",
     "output_type": "stream",
     "text": [
      "The model evaluation table on the holdout set is:\n"
     ]
    },
    {
     "data": {
      "text/html": [
       "<div>\n",
       "<style scoped>\n",
       "    .dataframe tbody tr th:only-of-type {\n",
       "        vertical-align: middle;\n",
       "    }\n",
       "\n",
       "    .dataframe tbody tr th {\n",
       "        vertical-align: top;\n",
       "    }\n",
       "\n",
       "    .dataframe thead th {\n",
       "        text-align: right;\n",
       "    }\n",
       "</style>\n",
       "<table border=\"1\" class=\"dataframe\">\n",
       "  <thead>\n",
       "    <tr style=\"text-align: right;\">\n",
       "      <th></th>\n",
       "      <th>Algorithm</th>\n",
       "      <th>Jaccard</th>\n",
       "      <th>Precision</th>\n",
       "      <th>Recall</th>\n",
       "      <th>AUC</th>\n",
       "    </tr>\n",
       "  </thead>\n",
       "  <tbody>\n",
       "    <tr>\n",
       "      <th>0</th>\n",
       "      <td>KNN</td>\n",
       "      <td>0.950565</td>\n",
       "      <td>0.983918</td>\n",
       "      <td>0.965567</td>\n",
       "      <td>0.980395</td>\n",
       "    </tr>\n",
       "    <tr>\n",
       "      <th>1</th>\n",
       "      <td>Decision Tree</td>\n",
       "      <td>0.987179</td>\n",
       "      <td>0.992837</td>\n",
       "      <td>0.994261</td>\n",
       "      <td>0.996045</td>\n",
       "    </tr>\n",
       "    <tr>\n",
       "      <th>2</th>\n",
       "      <td>SVM</td>\n",
       "      <td>0.911081</td>\n",
       "      <td>0.951429</td>\n",
       "      <td>0.955524</td>\n",
       "      <td>0.970380</td>\n",
       "    </tr>\n",
       "    <tr>\n",
       "      <th>3</th>\n",
       "      <td>RandomForest</td>\n",
       "      <td>0.992832</td>\n",
       "      <td>0.999278</td>\n",
       "      <td>0.993544</td>\n",
       "      <td>0.996663</td>\n",
       "    </tr>\n",
       "  </tbody>\n",
       "</table>\n",
       "</div>"
      ],
      "text/plain": [
       "       Algorithm   Jaccard  Precision    Recall       AUC\n",
       "0            KNN  0.950565   0.983918  0.965567  0.980395\n",
       "1  Decision Tree  0.987179   0.992837  0.994261  0.996045\n",
       "2            SVM  0.911081   0.951429  0.955524  0.970380\n",
       "3   RandomForest  0.992832   0.999278  0.993544  0.996663"
      ]
     },
     "execution_count": 80,
     "metadata": {},
     "output_type": "execute_result"
    }
   ],
   "source": [
    "jacc = [jaccard_score(y_test, knn_pred), jaccard_score(y_test, tree_pred),jaccard_score(y_test, svc_pred),jaccard_score(y_test, rf_pred)]\n",
    "pre = [precision_score(y_test, knn_pred),precision_score(y_test, tree_pred),precision_score(y_test, svc_pred),precision_score(y_test, rf_pred)]\n",
    "rec = [recall_score(y_test, knn_pred), recall_score(y_test, tree_pred),recall_score(y_test, svc_pred),recall_score(y_test, rf_pred)]\n",
    "auc = [roc_auc_score(y_test, knn_pred), roc_auc_score(y_test, tree_pred),roc_auc_score(y_test, svc_pred),roc_auc_score(y_test, rf_pred)]\n",
    "rep['Jaccard'] = jacc\n",
    "rep['Precision'] = pre\n",
    "rep['Recall'] = rec\n",
    "rep['AUC'] = auc\n",
    "print(\"The model evaluation table on the holdout set is:\")\n",
    "rep"
   ]
  },
  {
   "cell_type": "markdown",
   "metadata": {},
   "source": [
    "#### <span style = \"color:darkblue\"> <b><u>Conclusion</u>:</b></span> <span style = \"color:brown\">Based on the above table, we can say that <i>Random Forest</i> is indeed the best model which has the highest score for precision, recall as well as AUC</span>"
   ]
  },
  {
   "cell_type": "markdown",
   "metadata": {},
   "source": [
    "## <span style = \"color:darkblue\"><u>STEP 6</u>: Model forecast and prediction results</span>"
   ]
  },
  {
   "cell_type": "markdown",
   "metadata": {},
   "source": [
    "### <span style = \"color:brown\">I. Forecasting values on train set from the best model turning feature engineering on</span>  "
   ]
  },
  {
   "cell_type": "code",
   "execution_count": 93,
   "metadata": {},
   "outputs": [
    {
     "name": "stdout",
     "output_type": "stream",
     "text": [
      "The predictions using the best random forest model are:  [1 0 1 ... 1 1 0]\n"
     ]
    }
   ],
   "source": [
    "print(\"The predictions using the best random forest model are: \",rf_pred)"
   ]
  },
  {
   "cell_type": "markdown",
   "metadata": {},
   "source": [
    "Turning the feature engineering on and making the forecast using the best model"
   ]
  },
  {
   "cell_type": "code",
   "execution_count": 128,
   "metadata": {},
   "outputs": [
    {
     "name": "stdout",
     "output_type": "stream",
     "text": [
      "The best model is RandomForestClassifier(max_features=10, n_estimators=80, random_state=42) \n",
      "\n",
      "Accuracy metrics:\n",
      "\n",
      "Jaccard score: 0.992831541218638 \n",
      "Precision: 0.9992784992784993 \n",
      "Recall: 0.9935437589670014 \n",
      "\n",
      "Goodness of a fit metrics:\n",
      "\n",
      "AUC: 0.9966633254235789\n"
     ]
    }
   ],
   "source": [
    "adder = FunctionTransformer(feature_engineering, validate = False,\n",
    "                           kw_args = {\"feature_eng\":True})\n",
    "\n",
    "X_train_prep = full_pipeline.fit_transform(X_train)\n",
    "X_test_prep = full_pipeline.fit_transform(X_test)\n",
    "\n",
    "rf_best.fit(X_train_prep, y_train)\n",
    "final_pred = rf_best.predict(X_test_prep)\n",
    "print(\"The best model is\",rf_best,\"\\n\\nAccuracy metrics:\")\n",
    "print(\"\\nJaccard score:\",jaccard_score(y_test, final_pred),\"\\nPrecision:\", precision_score(y_test, final_pred), \"\\nRecall:\", recall_score(y_test, final_pred), \"\\n\\nGoodness of a fit metrics:\\n\\nAUC:\", \n",
    "      roc_auc_score(y_test, final_pred))"
   ]
  },
  {
   "cell_type": "markdown",
   "metadata": {},
   "source": [
    "### <span style = \"color:brown\">II. Plotting the precision-recall curve</span>  "
   ]
  },
  {
   "cell_type": "code",
   "execution_count": 121,
   "metadata": {},
   "outputs": [],
   "source": [
    "from sklearn.metrics import precision_recall_curve\n",
    "\n",
    "precisions, recalls, thresholds = precision_recall_curve(y_test, final_pred)"
   ]
  },
  {
   "cell_type": "code",
   "execution_count": 122,
   "metadata": {},
   "outputs": [
    {
     "data": {
      "image/png": "[encoded data removed]",
      "text/plain": [
       "<Figure size 576x288 with 1 Axes>"
      ]
     },
     "metadata": {},
     "output_type": "display_data"
    }
   ],
   "source": [
    "def plot_precision_recall_vs_threshold(precisions, recalls, thresholds):\n",
    "    plt.plot(thresholds, precisions[:-1], \"b--\", label=\"Precision\", linewidth=2)\n",
    "    plt.plot(thresholds, recalls[:-1], \"g-\", label=\"Recall\", linewidth=2)\n",
    "    plt.xlabel(\"Threshold\", fontsize=16)\n",
    "    plt.legend(loc=\"upper left\", fontsize=16)\n",
    "    plt.ylim([0, 2])\n",
    "\n",
    "plt.figure(figsize=(8, 4))\n",
    "plot_precision_recall_vs_threshold(precisions, recalls, thresholds)\n",
    "plt.show()"
   ]
  },
  {
   "cell_type": "markdown",
   "metadata": {},
   "source": [
    "As expected, recall decreases as precision increases with an intersection at 0.95 value of Threshold"
   ]
  }
 ],
 "metadata": {
  "kernelspec": {
   "display_name": "Python 3",
   "language": "python",
   "name": "python3"
  },
  "language_info": {
   "codemirror_mode": {
    "name": "ipython",
    "version": 3
   },
   "file_extension": ".py",
   "mimetype": "text/x-python",
   "name": "python",
   "nbconvert_exporter": "python",
   "pygments_lexer": "ipython3",
   "version": "3.6.5"
  }
 },
 "nbformat": 4,
 "nbformat_minor": 2
}
